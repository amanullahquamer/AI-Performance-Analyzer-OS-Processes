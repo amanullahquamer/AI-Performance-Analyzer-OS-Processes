{
  "nbformat": 4,
  "nbformat_minor": 0,
  "metadata": {
    "colab": {
      "provenance": [],
      "authorship_tag": "ABX9TyOa4ta7/+bN4RWbQfF1C5Gb",
      "include_colab_link": true
    },
    "kernelspec": {
      "name": "python3",
      "display_name": "Python 3"
    },
    "language_info": {
      "name": "python"
    }
  },
  "cells": [
    {
      "cell_type": "markdown",
      "metadata": {
        "id": "view-in-github",
        "colab_type": "text"
      },
      "source": [
        "<a href=\"https://colab.research.google.com/github/amanullahquamer/AI-Performance-Analyzer-OS-Processes/blob/main/fetchingsystemusage.ipynb\" target=\"_parent\"><img src=\"https://colab.research.google.com/assets/colab-badge.svg\" alt=\"Open In Colab\"/></a>"
      ]
    },
    {
      "cell_type": "code",
      "execution_count": 1,
      "metadata": {
        "colab": {
          "base_uri": "https://localhost:8080/"
        },
        "id": "8qDJfWxGF1c2",
        "outputId": "caebcc0b-5f69-47b1-bf3b-940dd2762573"
      },
      "outputs": [
        {
          "output_type": "stream",
          "name": "stdout",
          "text": [
            "Data saved to performance_data.csv\n"
          ]
        }
      ],
      "source": [
        "# data_collection.py\n",
        "import psutil\n",
        "import pandas as pd\n",
        "from datetime import datetime\n",
        "\n",
        "def collect_system_metrics():\n",
        "    data = []\n",
        "    for proc in psutil.process_iter(['pid', 'name', 'cpu_percent', 'memory_percent']):\n",
        "        try:\n",
        "            info = proc.info\n",
        "            data.append({\n",
        "                'Timestamp': datetime.now(),\n",
        "                'PID': info['pid'],\n",
        "                'Name': info['name'],\n",
        "                'CPU_Usage': info['cpu_percent'],\n",
        "                'Memory_Usage': info['memory_percent']\n",
        "            })\n",
        "        except (psutil.NoSuchProcess, psutil.AccessDenied, psutil.ZombieProcess):\n",
        "            continue\n",
        "    return data\n",
        "\n",
        "def save_metrics_to_csv(filename='performance_data.csv'):\n",
        "    data = collect_system_metrics()\n",
        "    df = pd.DataFrame(data)\n",
        "    df.to_csv(filename, index=False)\n",
        "    print(f\"Data saved to {filename}\")\n",
        "\n",
        "if __name__ == '__main__':\n",
        "    save_metrics_to_csv()\n"
      ]
    },
    {
      "cell_type": "code",
      "source": [],
      "metadata": {
        "id": "4rAVPdtqGrjH"
      },
      "execution_count": null,
      "outputs": []
    }
  ]
}